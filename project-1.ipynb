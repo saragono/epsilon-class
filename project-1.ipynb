{
 "cells": [
  {
   "cell_type": "code",
   "execution_count": 29,
   "metadata": {},
   "outputs": [],
   "source": [
    "import random\n",
    "import string\n",
    "\n",
    "def generate_email_and_password(name_list, age_list):\n",
    "    'function to creat email using name & age and password'\n",
    "   #loop to make sure each name has age \n",
    "    if len(name_list) != len(age_list):\n",
    "        return \"Lists must be of equal length.\"\n",
    "    \n",
    "    email_password_dict = {}\n",
    "    #loop use name and corresponding age to generat email then generat password and make email like key \n",
    "    for name, age in zip(name_list, age_list):\n",
    "        email = f\"{name}_{age}@gmail.com\"\n",
    "        password = ''.join(random.choices(string.ascii_letters + string.digits, k=9))\n",
    "        email_password_dict[email] = password\n",
    "\n",
    "    return email_password_dict\n"
   ]
  },
  {
   "cell_type": "code",
   "execution_count": 30,
   "metadata": {},
   "outputs": [
    {
     "data": {
      "text/plain": [
       "{'sara_33@gmail.com': '2lvjPiv4W',\n",
       " 'ali_35@gmail.com': 'NBXHE6i0o',\n",
       " 'ahmed_29@gmail.com': '7kEzmhiCI'}"
      ]
     },
     "execution_count": 30,
     "metadata": {},
     "output_type": "execute_result"
    }
   ],
   "source": [
    "generate_email_and_password([\"sara\", \"ali\", \"ahmed\"],[33, 35, 29])"
   ]
  },
  {
   "cell_type": "code",
   "execution_count": 20,
   "metadata": {},
   "outputs": [],
   "source": [
    "import random\n",
    "import string\n",
    "\n",
    "def generate_email_and_passwordv2(**arg):\n",
    "    names=arg['name']\n",
    "    ages=arg['age']\n",
    "    if len(names) != len(ages):\n",
    "        return \"Lists must be of equal length.\"\n",
    "\n",
    "    email_password_dict = {}\n",
    "\n",
    "    for elename, eleage in zip(names, ages):\n",
    "        email = f\"{elename}_{eleage}@gmail.com\"\n",
    "        password = ''.join(random.choices(string.ascii_letters + string.digits, k=9))\n",
    "        email_password_dict[email] = password\n",
    "\n",
    "    return email_password_dict\n"
   ]
  },
  {
   "cell_type": "code",
   "execution_count": 28,
   "metadata": {},
   "outputs": [
    {
     "data": {
      "text/plain": [
       "{'sara_33@gmail.com': 'A53dHbNyO',\n",
       " 'ali_35@gmail.com': 'kLI78dXEZ',\n",
       " 'ahmed_29@gmail.com': 'tF7SZKk1s'}"
      ]
     },
     "execution_count": 28,
     "metadata": {},
     "output_type": "execute_result"
    }
   ],
   "source": [
    "generate_email_and_passwordv2(**{\"name\":[\"sara\", \"ali\", \"ahmed\"],\"age\":[33, 35, 29]})"
   ]
  },
  {
   "cell_type": "code",
   "execution_count": 30,
   "metadata": {},
   "outputs": [],
   "source": [
    "import random\n",
    "import string\n",
    "\n",
    "def generate_email_and_passwordv3(**arg):\n",
    "    'this function generate email and password for given dictionary names and age'\n",
    "    email_password_dic = {}\n",
    "    email_password_dic['name'] = arg['name']\n",
    "    email_password_dic['age'] = arg['age']\n",
    "    email_password_dic['email'] =[]\n",
    "    email_password_dic['password']=[]\n",
    "    for i, k in zip( email_password_dic['name'], email_password_dic['age']):\n",
    "        try:\n",
    "            email = f\"{i}_{k}epsilonclass@gmail.com\"\n",
    "            password = ''.join(random.choices(string.ascii_letters + string.digits, k=9))\n",
    "            email_password_dic['email'].append(email)\n",
    "            email_password_dic['password'].append(password)\n",
    "        except:\n",
    "            print('there is missing value')\n",
    "    return email_password_dic\n"
   ]
  },
  {
   "cell_type": "code",
   "execution_count": 31,
   "metadata": {},
   "outputs": [
    {
     "data": {
      "text/plain": [
       "{'name': ['sara', 'ali', 'ahmed'],\n",
       " 'age': [33, 35, 29],\n",
       " 'email': ['sara_33epsilonclass@gmail.com',\n",
       "  'ali_35epsilonclass@gmail.com',\n",
       "  'ahmed_29epsilonclass@gmail.com'],\n",
       " 'password': ['YYrfuYmB4', '9yTg5yWpu', 'zfrYu8JZJ']}"
      ]
     },
     "execution_count": 31,
     "metadata": {},
     "output_type": "execute_result"
    }
   ],
   "source": [
    "generate_email_and_passwordv3(**{\"name\":[\"sara\", \"ali\", \"ahmed\"],\"age\":[33, 35, 29]})"
   ]
  },
  {
   "cell_type": "code",
   "execution_count": 32,
   "metadata": {},
   "outputs": [
    {
     "data": {
      "text/plain": [
       "{'name': ['sara', 'ali', 'ahmed'],\n",
       " 'age': [33, 35],\n",
       " 'email': ['sara_33epsilonclass@gmail.com', 'ali_35epsilonclass@gmail.com'],\n",
       " 'password': ['R4ycGVKfl', 'q7peCqhEv']}"
      ]
     },
     "execution_count": 32,
     "metadata": {},
     "output_type": "execute_result"
    }
   ],
   "source": [
    "generate_email_and_passwordv3(**{\"name\":[\"sara\", \"ali\", \"ahmed\"],\"age\":[33, 35]})\n",
    "#why try didint print "
   ]
  }
 ],
 "metadata": {
  "kernelspec": {
   "display_name": "Python 3",
   "language": "python",
   "name": "python3"
  },
  "language_info": {
   "codemirror_mode": {
    "name": "ipython",
    "version": 3
   },
   "file_extension": ".py",
   "mimetype": "text/x-python",
   "name": "python",
   "nbconvert_exporter": "python",
   "pygments_lexer": "ipython3",
   "version": "3.12.3"
  }
 },
 "nbformat": 4,
 "nbformat_minor": 2
}
